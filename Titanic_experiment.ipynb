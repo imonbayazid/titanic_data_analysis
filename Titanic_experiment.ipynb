{
 "cells": [
  {
   "cell_type": "markdown",
   "metadata": {},
   "source": [
    "## Titanic data analysis"
   ]
  },
  {
   "cell_type": "code",
   "execution_count": 2669,
   "metadata": {},
   "outputs": [],
   "source": [
    "#load all the basic libraries\n",
    "import numpy as np\n",
    "import pandas as pd\n",
    "import matplotlib.pyplot as plt\n",
    "import seaborn as sns\n",
    "import warnings\n",
    "warnings.filterwarnings('ignore')\n",
    "%matplotlib inline"
   ]
  },
  {
   "cell_type": "code",
   "execution_count": 2670,
   "metadata": {},
   "outputs": [],
   "source": [
    "# load the training and testing data\n",
    "train_df = pd.read_csv(\"train.csv\")\n",
    "test_df = pd.read_csv(\"test.csv\")"
   ]
  },
  {
   "cell_type": "code",
   "execution_count": 2671,
   "metadata": {},
   "outputs": [
    {
     "name": "stdout",
     "output_type": "stream",
     "text": [
      "Train dataframe shape:  (891, 12)\n"
     ]
    },
    {
     "data": {
      "text/html": [
       "<div>\n",
       "<style scoped>\n",
       "    .dataframe tbody tr th:only-of-type {\n",
       "        vertical-align: middle;\n",
       "    }\n",
       "\n",
       "    .dataframe tbody tr th {\n",
       "        vertical-align: top;\n",
       "    }\n",
       "\n",
       "    .dataframe thead th {\n",
       "        text-align: right;\n",
       "    }\n",
       "</style>\n",
       "<table border=\"1\" class=\"dataframe\">\n",
       "  <thead>\n",
       "    <tr style=\"text-align: right;\">\n",
       "      <th></th>\n",
       "      <th>PassengerId</th>\n",
       "      <th>Survived</th>\n",
       "      <th>Pclass</th>\n",
       "      <th>Name</th>\n",
       "      <th>Sex</th>\n",
       "      <th>Age</th>\n",
       "      <th>SibSp</th>\n",
       "      <th>Parch</th>\n",
       "      <th>Ticket</th>\n",
       "      <th>Fare</th>\n",
       "      <th>Cabin</th>\n",
       "      <th>Embarked</th>\n",
       "    </tr>\n",
       "  </thead>\n",
       "  <tbody>\n",
       "    <tr>\n",
       "      <th>0</th>\n",
       "      <td>1</td>\n",
       "      <td>0</td>\n",
       "      <td>3</td>\n",
       "      <td>Braund, Mr. Owen Harris</td>\n",
       "      <td>male</td>\n",
       "      <td>22.0</td>\n",
       "      <td>1</td>\n",
       "      <td>0</td>\n",
       "      <td>A/5 21171</td>\n",
       "      <td>7.2500</td>\n",
       "      <td>NaN</td>\n",
       "      <td>S</td>\n",
       "    </tr>\n",
       "    <tr>\n",
       "      <th>1</th>\n",
       "      <td>2</td>\n",
       "      <td>1</td>\n",
       "      <td>1</td>\n",
       "      <td>Cumings, Mrs. John Bradley (Florence Briggs Th...</td>\n",
       "      <td>female</td>\n",
       "      <td>38.0</td>\n",
       "      <td>1</td>\n",
       "      <td>0</td>\n",
       "      <td>PC 17599</td>\n",
       "      <td>71.2833</td>\n",
       "      <td>C85</td>\n",
       "      <td>C</td>\n",
       "    </tr>\n",
       "    <tr>\n",
       "      <th>2</th>\n",
       "      <td>3</td>\n",
       "      <td>1</td>\n",
       "      <td>3</td>\n",
       "      <td>Heikkinen, Miss. Laina</td>\n",
       "      <td>female</td>\n",
       "      <td>26.0</td>\n",
       "      <td>0</td>\n",
       "      <td>0</td>\n",
       "      <td>STON/O2. 3101282</td>\n",
       "      <td>7.9250</td>\n",
       "      <td>NaN</td>\n",
       "      <td>S</td>\n",
       "    </tr>\n",
       "    <tr>\n",
       "      <th>3</th>\n",
       "      <td>4</td>\n",
       "      <td>1</td>\n",
       "      <td>1</td>\n",
       "      <td>Futrelle, Mrs. Jacques Heath (Lily May Peel)</td>\n",
       "      <td>female</td>\n",
       "      <td>35.0</td>\n",
       "      <td>1</td>\n",
       "      <td>0</td>\n",
       "      <td>113803</td>\n",
       "      <td>53.1000</td>\n",
       "      <td>C123</td>\n",
       "      <td>S</td>\n",
       "    </tr>\n",
       "    <tr>\n",
       "      <th>4</th>\n",
       "      <td>5</td>\n",
       "      <td>0</td>\n",
       "      <td>3</td>\n",
       "      <td>Allen, Mr. William Henry</td>\n",
       "      <td>male</td>\n",
       "      <td>35.0</td>\n",
       "      <td>0</td>\n",
       "      <td>0</td>\n",
       "      <td>373450</td>\n",
       "      <td>8.0500</td>\n",
       "      <td>NaN</td>\n",
       "      <td>S</td>\n",
       "    </tr>\n",
       "  </tbody>\n",
       "</table>\n",
       "</div>"
      ],
      "text/plain": [
       "   PassengerId  Survived  Pclass  \\\n",
       "0            1         0       3   \n",
       "1            2         1       1   \n",
       "2            3         1       3   \n",
       "3            4         1       1   \n",
       "4            5         0       3   \n",
       "\n",
       "                                                Name     Sex   Age  SibSp  \\\n",
       "0                            Braund, Mr. Owen Harris    male  22.0      1   \n",
       "1  Cumings, Mrs. John Bradley (Florence Briggs Th...  female  38.0      1   \n",
       "2                             Heikkinen, Miss. Laina  female  26.0      0   \n",
       "3       Futrelle, Mrs. Jacques Heath (Lily May Peel)  female  35.0      1   \n",
       "4                           Allen, Mr. William Henry    male  35.0      0   \n",
       "\n",
       "   Parch            Ticket     Fare Cabin Embarked  \n",
       "0      0         A/5 21171   7.2500   NaN        S  \n",
       "1      0          PC 17599  71.2833   C85        C  \n",
       "2      0  STON/O2. 3101282   7.9250   NaN        S  \n",
       "3      0            113803  53.1000  C123        S  \n",
       "4      0            373450   8.0500   NaN        S  "
      ]
     },
     "execution_count": 2671,
     "metadata": {},
     "output_type": "execute_result"
    }
   ],
   "source": [
    "# check the train data\n",
    "print('Train dataframe shape: ',train_df.shape)\n",
    "train_df.head()"
   ]
  },
  {
   "cell_type": "code",
   "execution_count": 2672,
   "metadata": {},
   "outputs": [
    {
     "name": "stdout",
     "output_type": "stream",
     "text": [
      "Test dataframe shape:  (418, 11)\n"
     ]
    },
    {
     "data": {
      "text/html": [
       "<div>\n",
       "<style scoped>\n",
       "    .dataframe tbody tr th:only-of-type {\n",
       "        vertical-align: middle;\n",
       "    }\n",
       "\n",
       "    .dataframe tbody tr th {\n",
       "        vertical-align: top;\n",
       "    }\n",
       "\n",
       "    .dataframe thead th {\n",
       "        text-align: right;\n",
       "    }\n",
       "</style>\n",
       "<table border=\"1\" class=\"dataframe\">\n",
       "  <thead>\n",
       "    <tr style=\"text-align: right;\">\n",
       "      <th></th>\n",
       "      <th>PassengerId</th>\n",
       "      <th>Pclass</th>\n",
       "      <th>Name</th>\n",
       "      <th>Sex</th>\n",
       "      <th>Age</th>\n",
       "      <th>SibSp</th>\n",
       "      <th>Parch</th>\n",
       "      <th>Ticket</th>\n",
       "      <th>Fare</th>\n",
       "      <th>Cabin</th>\n",
       "      <th>Embarked</th>\n",
       "    </tr>\n",
       "  </thead>\n",
       "  <tbody>\n",
       "    <tr>\n",
       "      <th>0</th>\n",
       "      <td>892</td>\n",
       "      <td>3</td>\n",
       "      <td>Kelly, Mr. James</td>\n",
       "      <td>male</td>\n",
       "      <td>34.5</td>\n",
       "      <td>0</td>\n",
       "      <td>0</td>\n",
       "      <td>330911</td>\n",
       "      <td>7.8292</td>\n",
       "      <td>NaN</td>\n",
       "      <td>Q</td>\n",
       "    </tr>\n",
       "    <tr>\n",
       "      <th>1</th>\n",
       "      <td>893</td>\n",
       "      <td>3</td>\n",
       "      <td>Wilkes, Mrs. James (Ellen Needs)</td>\n",
       "      <td>female</td>\n",
       "      <td>47.0</td>\n",
       "      <td>1</td>\n",
       "      <td>0</td>\n",
       "      <td>363272</td>\n",
       "      <td>7.0000</td>\n",
       "      <td>NaN</td>\n",
       "      <td>S</td>\n",
       "    </tr>\n",
       "    <tr>\n",
       "      <th>2</th>\n",
       "      <td>894</td>\n",
       "      <td>2</td>\n",
       "      <td>Myles, Mr. Thomas Francis</td>\n",
       "      <td>male</td>\n",
       "      <td>62.0</td>\n",
       "      <td>0</td>\n",
       "      <td>0</td>\n",
       "      <td>240276</td>\n",
       "      <td>9.6875</td>\n",
       "      <td>NaN</td>\n",
       "      <td>Q</td>\n",
       "    </tr>\n",
       "    <tr>\n",
       "      <th>3</th>\n",
       "      <td>895</td>\n",
       "      <td>3</td>\n",
       "      <td>Wirz, Mr. Albert</td>\n",
       "      <td>male</td>\n",
       "      <td>27.0</td>\n",
       "      <td>0</td>\n",
       "      <td>0</td>\n",
       "      <td>315154</td>\n",
       "      <td>8.6625</td>\n",
       "      <td>NaN</td>\n",
       "      <td>S</td>\n",
       "    </tr>\n",
       "    <tr>\n",
       "      <th>4</th>\n",
       "      <td>896</td>\n",
       "      <td>3</td>\n",
       "      <td>Hirvonen, Mrs. Alexander (Helga E Lindqvist)</td>\n",
       "      <td>female</td>\n",
       "      <td>22.0</td>\n",
       "      <td>1</td>\n",
       "      <td>1</td>\n",
       "      <td>3101298</td>\n",
       "      <td>12.2875</td>\n",
       "      <td>NaN</td>\n",
       "      <td>S</td>\n",
       "    </tr>\n",
       "  </tbody>\n",
       "</table>\n",
       "</div>"
      ],
      "text/plain": [
       "   PassengerId  Pclass                                          Name     Sex  \\\n",
       "0          892       3                              Kelly, Mr. James    male   \n",
       "1          893       3              Wilkes, Mrs. James (Ellen Needs)  female   \n",
       "2          894       2                     Myles, Mr. Thomas Francis    male   \n",
       "3          895       3                              Wirz, Mr. Albert    male   \n",
       "4          896       3  Hirvonen, Mrs. Alexander (Helga E Lindqvist)  female   \n",
       "\n",
       "    Age  SibSp  Parch   Ticket     Fare Cabin Embarked  \n",
       "0  34.5      0      0   330911   7.8292   NaN        Q  \n",
       "1  47.0      1      0   363272   7.0000   NaN        S  \n",
       "2  62.0      0      0   240276   9.6875   NaN        Q  \n",
       "3  27.0      0      0   315154   8.6625   NaN        S  \n",
       "4  22.0      1      1  3101298  12.2875   NaN        S  "
      ]
     },
     "execution_count": 2672,
     "metadata": {},
     "output_type": "execute_result"
    }
   ],
   "source": [
    "# check the test data\n",
    "print('Test dataframe shape: ',test_df.shape)\n",
    "test_df.head()"
   ]
  },
  {
   "cell_type": "code",
   "execution_count": 2673,
   "metadata": {},
   "outputs": [
    {
     "name": "stdout",
     "output_type": "stream",
     "text": [
      "<class 'pandas.core.frame.DataFrame'>\n",
      "RangeIndex: 891 entries, 0 to 890\n",
      "Data columns (total 12 columns):\n",
      "PassengerId    891 non-null int64\n",
      "Survived       891 non-null int64\n",
      "Pclass         891 non-null int64\n",
      "Name           891 non-null object\n",
      "Sex            891 non-null object\n",
      "Age            714 non-null float64\n",
      "SibSp          891 non-null int64\n",
      "Parch          891 non-null int64\n",
      "Ticket         891 non-null object\n",
      "Fare           891 non-null float64\n",
      "Cabin          204 non-null object\n",
      "Embarked       889 non-null object\n",
      "dtypes: float64(2), int64(5), object(5)\n",
      "memory usage: 83.6+ KB\n",
      "None\n",
      "       PassengerId    Survived      Pclass         Age       SibSp  \\\n",
      "count   891.000000  891.000000  891.000000  714.000000  891.000000   \n",
      "mean    446.000000    0.383838    2.308642   29.699118    0.523008   \n",
      "std     257.353842    0.486592    0.836071   14.526497    1.102743   \n",
      "min       1.000000    0.000000    1.000000    0.420000    0.000000   \n",
      "25%     223.500000    0.000000    2.000000   20.125000    0.000000   \n",
      "50%     446.000000    0.000000    3.000000   28.000000    0.000000   \n",
      "75%     668.500000    1.000000    3.000000   38.000000    1.000000   \n",
      "max     891.000000    1.000000    3.000000   80.000000    8.000000   \n",
      "\n",
      "            Parch        Fare  \n",
      "count  891.000000  891.000000  \n",
      "mean     0.381594   32.204208  \n",
      "std      0.806057   49.693429  \n",
      "min      0.000000    0.000000  \n",
      "25%      0.000000    7.910400  \n",
      "50%      0.000000   14.454200  \n",
      "75%      0.000000   31.000000  \n",
      "max      6.000000  512.329200  \n"
     ]
    }
   ],
   "source": [
    "print(train_df.info())\n",
    "print(train_df.describe())"
   ]
  },
  {
   "cell_type": "markdown",
   "metadata": {},
   "source": [
    "### Data definition"
   ]
  },
  {
   "cell_type": "markdown",
   "metadata": {},
   "source": [
    "0. passerId\n",
    "1. Survival: 0 means didn't survive and 1 means survived\n",
    "2. Pclass: Ticket class\n",
    "    1 means 1st class ticket\n",
    "    2 means 2nd class ticket \n",
    "    3 means 3rd class ticket\n",
    "3. Sex : gender\n",
    "4. Age\n",
    "5. Sibsp: Number of siblings or spouses \n",
    "6. Parch: Number of parents or children \n",
    "7. Tickets\n",
    "8. Fare\n",
    "9. Cabin\n",
    "10.Embarked: Passenger depated station\n",
    "    C = Cherbourg\n",
    "    Q = Queenstown\n",
    "    S = Southampton\n",
    "    \n",
    "There are four type of variables\n",
    "    1. Numerical Features: Age, Fare, SibSp and Parch\n",
    "    2. Categorical Features: Sex, Embarked, Survived and Pclass\n",
    "    3. Alphanumeric Features: Ticket and Cabin(Contains both alphabets and the numeric value)\n",
    "    4. Text Features: Name    \n"
   ]
  },
  {
   "cell_type": "markdown",
   "metadata": {},
   "source": [
    "#### Check missing data"
   ]
  },
  {
   "cell_type": "code",
   "execution_count": 2674,
   "metadata": {},
   "outputs": [],
   "source": [
    "# show missing data along with their percentage\n",
    "def missing_data(df):\n",
    "    nullvalues = df.isnull()\n",
    "    total_missing = nullvalues.sum().sort_values(ascending=False)\n",
    "    total_missing_percentage = nullvalues.sum()/nullvalues.count()*100\n",
    "    total_missing_percentage = (round(total_missing_percentage,1)).sort_values(ascending=False)\n",
    "    missing_data = pd.concat([total_missing,total_missing_percentage],axis=1,keys=['Total','%'])\n",
    "    return missing_data"
   ]
  },
  {
   "cell_type": "code",
   "execution_count": 2675,
   "metadata": {},
   "outputs": [
    {
     "name": "stdout",
     "output_type": "stream",
     "text": [
      "------Missing train data---\n"
     ]
    },
    {
     "data": {
      "text/html": [
       "<div>\n",
       "<style scoped>\n",
       "    .dataframe tbody tr th:only-of-type {\n",
       "        vertical-align: middle;\n",
       "    }\n",
       "\n",
       "    .dataframe tbody tr th {\n",
       "        vertical-align: top;\n",
       "    }\n",
       "\n",
       "    .dataframe thead th {\n",
       "        text-align: right;\n",
       "    }\n",
       "</style>\n",
       "<table border=\"1\" class=\"dataframe\">\n",
       "  <thead>\n",
       "    <tr style=\"text-align: right;\">\n",
       "      <th></th>\n",
       "      <th>Total</th>\n",
       "      <th>%</th>\n",
       "    </tr>\n",
       "  </thead>\n",
       "  <tbody>\n",
       "    <tr>\n",
       "      <th>Cabin</th>\n",
       "      <td>687</td>\n",
       "      <td>77.1</td>\n",
       "    </tr>\n",
       "    <tr>\n",
       "      <th>Age</th>\n",
       "      <td>177</td>\n",
       "      <td>19.9</td>\n",
       "    </tr>\n",
       "    <tr>\n",
       "      <th>Embarked</th>\n",
       "      <td>2</td>\n",
       "      <td>0.2</td>\n",
       "    </tr>\n",
       "    <tr>\n",
       "      <th>Fare</th>\n",
       "      <td>0</td>\n",
       "      <td>0.0</td>\n",
       "    </tr>\n",
       "    <tr>\n",
       "      <th>Ticket</th>\n",
       "      <td>0</td>\n",
       "      <td>0.0</td>\n",
       "    </tr>\n",
       "    <tr>\n",
       "      <th>Parch</th>\n",
       "      <td>0</td>\n",
       "      <td>0.0</td>\n",
       "    </tr>\n",
       "    <tr>\n",
       "      <th>SibSp</th>\n",
       "      <td>0</td>\n",
       "      <td>0.0</td>\n",
       "    </tr>\n",
       "    <tr>\n",
       "      <th>Sex</th>\n",
       "      <td>0</td>\n",
       "      <td>0.0</td>\n",
       "    </tr>\n",
       "    <tr>\n",
       "      <th>Name</th>\n",
       "      <td>0</td>\n",
       "      <td>0.0</td>\n",
       "    </tr>\n",
       "    <tr>\n",
       "      <th>Pclass</th>\n",
       "      <td>0</td>\n",
       "      <td>0.0</td>\n",
       "    </tr>\n",
       "    <tr>\n",
       "      <th>Survived</th>\n",
       "      <td>0</td>\n",
       "      <td>0.0</td>\n",
       "    </tr>\n",
       "    <tr>\n",
       "      <th>PassengerId</th>\n",
       "      <td>0</td>\n",
       "      <td>0.0</td>\n",
       "    </tr>\n",
       "  </tbody>\n",
       "</table>\n",
       "</div>"
      ],
      "text/plain": [
       "             Total     %\n",
       "Cabin          687  77.1\n",
       "Age            177  19.9\n",
       "Embarked         2   0.2\n",
       "Fare             0   0.0\n",
       "Ticket           0   0.0\n",
       "Parch            0   0.0\n",
       "SibSp            0   0.0\n",
       "Sex              0   0.0\n",
       "Name             0   0.0\n",
       "Pclass           0   0.0\n",
       "Survived         0   0.0\n",
       "PassengerId      0   0.0"
      ]
     },
     "execution_count": 2675,
     "metadata": {},
     "output_type": "execute_result"
    }
   ],
   "source": [
    "print('------Missing train data---')\n",
    "missing_data(train_df)"
   ]
  },
  {
   "cell_type": "code",
   "execution_count": 2676,
   "metadata": {},
   "outputs": [
    {
     "name": "stdout",
     "output_type": "stream",
     "text": [
      "------Missing test data---------\n"
     ]
    },
    {
     "data": {
      "text/html": [
       "<div>\n",
       "<style scoped>\n",
       "    .dataframe tbody tr th:only-of-type {\n",
       "        vertical-align: middle;\n",
       "    }\n",
       "\n",
       "    .dataframe tbody tr th {\n",
       "        vertical-align: top;\n",
       "    }\n",
       "\n",
       "    .dataframe thead th {\n",
       "        text-align: right;\n",
       "    }\n",
       "</style>\n",
       "<table border=\"1\" class=\"dataframe\">\n",
       "  <thead>\n",
       "    <tr style=\"text-align: right;\">\n",
       "      <th></th>\n",
       "      <th>Total</th>\n",
       "      <th>%</th>\n",
       "    </tr>\n",
       "  </thead>\n",
       "  <tbody>\n",
       "    <tr>\n",
       "      <th>Cabin</th>\n",
       "      <td>327</td>\n",
       "      <td>78.2</td>\n",
       "    </tr>\n",
       "    <tr>\n",
       "      <th>Age</th>\n",
       "      <td>86</td>\n",
       "      <td>20.6</td>\n",
       "    </tr>\n",
       "    <tr>\n",
       "      <th>Fare</th>\n",
       "      <td>1</td>\n",
       "      <td>0.2</td>\n",
       "    </tr>\n",
       "    <tr>\n",
       "      <th>Embarked</th>\n",
       "      <td>0</td>\n",
       "      <td>0.0</td>\n",
       "    </tr>\n",
       "    <tr>\n",
       "      <th>Ticket</th>\n",
       "      <td>0</td>\n",
       "      <td>0.0</td>\n",
       "    </tr>\n",
       "    <tr>\n",
       "      <th>Parch</th>\n",
       "      <td>0</td>\n",
       "      <td>0.0</td>\n",
       "    </tr>\n",
       "    <tr>\n",
       "      <th>SibSp</th>\n",
       "      <td>0</td>\n",
       "      <td>0.0</td>\n",
       "    </tr>\n",
       "    <tr>\n",
       "      <th>Sex</th>\n",
       "      <td>0</td>\n",
       "      <td>0.0</td>\n",
       "    </tr>\n",
       "    <tr>\n",
       "      <th>Name</th>\n",
       "      <td>0</td>\n",
       "      <td>0.0</td>\n",
       "    </tr>\n",
       "    <tr>\n",
       "      <th>Pclass</th>\n",
       "      <td>0</td>\n",
       "      <td>0.0</td>\n",
       "    </tr>\n",
       "    <tr>\n",
       "      <th>PassengerId</th>\n",
       "      <td>0</td>\n",
       "      <td>0.0</td>\n",
       "    </tr>\n",
       "  </tbody>\n",
       "</table>\n",
       "</div>"
      ],
      "text/plain": [
       "             Total     %\n",
       "Cabin          327  78.2\n",
       "Age             86  20.6\n",
       "Fare             1   0.2\n",
       "Embarked         0   0.0\n",
       "Ticket           0   0.0\n",
       "Parch            0   0.0\n",
       "SibSp            0   0.0\n",
       "Sex              0   0.0\n",
       "Name             0   0.0\n",
       "Pclass           0   0.0\n",
       "PassengerId      0   0.0"
      ]
     },
     "execution_count": 2676,
     "metadata": {},
     "output_type": "execute_result"
    }
   ],
   "source": [
    "print('------Missing test data---------')\n",
    "missing_data(test_df)"
   ]
  },
  {
   "cell_type": "markdown",
   "metadata": {},
   "source": [
    "Mostly we have missing data in cabin and age column which we have to deal with later."
   ]
  },
  {
   "cell_type": "markdown",
   "metadata": {},
   "source": [
    "### Exploratory data analysis"
   ]
  },
  {
   "cell_type": "code",
   "execution_count": 2677,
   "metadata": {},
   "outputs": [
    {
     "name": "stdout",
     "output_type": "stream",
     "text": [
      "0    549\n",
      "1    342\n",
      "Name: Survived, dtype: int64\n",
      "\n",
      "So, total 61.62% passenger didnt survived.\n"
     ]
    },
    {
     "data": {
      "image/png": "[encoded data removed]",
      "text/plain": [
       "<Figure size 432x288 with 1 Axes>"
      ]
     },
     "metadata": {
      "needs_background": "light"
     },
     "output_type": "display_data"
    }
   ],
   "source": [
    "# check how many passengers (not)survived from the given dataseta along with their percentage\n",
    "print(train_df['Survived'].value_counts())\n",
    "survived = \"{:.2f}\".format(train_df['Survived'].value_counts(normalize=True)[0]*100)\n",
    "\n",
    "sns.countplot(train_df['Survived'])\n",
    "print('\\nSo, total '+survived +'% passenger didnt survived.')"
   ]
  },
  {
   "cell_type": "markdown",
   "metadata": {},
   "source": [
    "We can see that around 62% passenger died from total 891 passengers of training dataset. "
   ]
  },
  {
   "cell_type": "code",
   "execution_count": null,
   "metadata": {},
   "outputs": [],
   "source": []
  },
  {
   "cell_type": "code",
   "execution_count": 2678,
   "metadata": {},
   "outputs": [],
   "source": [
    "# this function is used to compare (not)survived based on a selective feature\n",
    "def visualize_data(feature):\n",
    "    plt.subplots(figsize = (10,10))\n",
    "    ax=sns.countplot(x=feature,hue='Survived',data=train_df)\n",
    "    plt.title(\"Survived vs Non-Survived by \"+feature, fontsize = 25)\n",
    "    leg=ax.get_legend()\n",
    "    leg.set_title('Survival')\n",
    "    legs=leg.texts\n",
    "    legs[0].set_text('No')\n",
    "    legs[1].set_text(\"yes\")  \n",
    "    \n",
    "#this function is used to print number of Survived passenger by a selective feature\n",
    "def print_survived_data_by_feature(data,feature):    \n",
    "    print('\\n\\nNumber of Survived passenger by '+feature+' :')\n",
    "    print(data[data['Survived']==1][feature].groupby(train_df[feature]).count())\n",
    "    print('\\n\\nNumber of Death passenger by '+feature+' :')\n",
    "    print(train_df[data['Survived']==0][feature].groupby(data[feature]).count())    \n",
    "    "
   ]
  },
  {
   "cell_type": "code",
   "execution_count": 2679,
   "metadata": {},
   "outputs": [
    {
     "name": "stdout",
     "output_type": "stream",
     "text": [
      "\n",
      "\n",
      "Number of Survived passenger by Pclass :\n",
      "Pclass\n",
      "1    136\n",
      "2     87\n",
      "3    119\n",
      "Name: Pclass, dtype: int64\n",
      "\n",
      "\n",
      "Number of Death passenger by Pclass :\n",
      "Pclass\n",
      "1     80\n",
      "2     97\n",
      "3    372\n",
      "Name: Pclass, dtype: int64\n"
     ]
    },
    {
     "data": {
      "image/png": "[encoded data removed]",
      "text/plain": [
       "<Figure size 720x720 with 1 Axes>"
      ]
     },
     "metadata": {
      "needs_background": "light"
     },
     "output_type": "display_data"
    }
   ],
   "source": [
    "# Now check how many passengers (not)survived for each passenger's class\n",
    "visualize_data('Pclass') \n",
    "print_survived_data_by_feature(train_df,'Pclass')"
   ]
  },
  {
   "cell_type": "markdown",
   "metadata": {},
   "source": [
    "We can see that 3rd class passenger died mostly.\n",
    "On the other hand,survival rate of 1st class passenger was higher than others.\n",
    "\n",
    "\n",
    "According to the BBC news:\n",
    "\n",
    "    Third class passengers all in search of a new life in America.Each class of passengers had access to their own decks and allocated lifeboats - although crucially no lifeboats were stored in the third class sections of the ship.\n",
    "    Third class passengers had to find their way through a maze of corridors and staircases to reach the boat deck. First and second class passengers were most likely to reach the lifeboats as the boat deck was a first and second class promenade.\n",
    "    When the lifeboats were finally lowered officers gave the order that \"women and children\" should go first.\n",
    " "
   ]
  },
  {
   "cell_type": "code",
   "execution_count": null,
   "metadata": {},
   "outputs": [],
   "source": []
  },
  {
   "cell_type": "code",
   "execution_count": 2680,
   "metadata": {},
   "outputs": [
    {
     "name": "stdout",
     "output_type": "stream",
     "text": [
      "\n",
      "\n",
      "Number of Survived passenger by Sex :\n",
      "Sex\n",
      "female    233\n",
      "male      109\n",
      "Name: Sex, dtype: int64\n",
      "\n",
      "\n",
      "Number of Death passenger by Sex :\n",
      "Sex\n",
      "female     81\n",
      "male      468\n",
      "Name: Sex, dtype: int64\n"
     ]
    },
    {
     "data": {
      "image/png": "[encoded data removed]",
      "text/plain": [
       "<Figure size 720x720 with 1 Axes>"
      ]
     },
     "metadata": {
      "needs_background": "light"
     },
     "output_type": "display_data"
    }
   ],
   "source": [
    "# Now check how many passengers (not)survived based on passenger's gender\n",
    "visualize_data('Sex')\n",
    "print_survived_data_by_feature(train_df,'Sex')"
   ]
  },
  {
   "cell_type": "markdown",
   "metadata": {},
   "source": [
    "Here, we can see that man died more compared to women as we know the fact that 'officers of the titanic gave the order that women and children should go first with the lifeboat'"
   ]
  },
  {
   "cell_type": "code",
   "execution_count": null,
   "metadata": {},
   "outputs": [],
   "source": []
  },
  {
   "cell_type": "code",
   "execution_count": 2681,
   "metadata": {},
   "outputs": [
    {
     "name": "stdout",
     "output_type": "stream",
     "text": [
      "\n",
      "\n",
      "Number of Survived passenger by SibSp :\n",
      "SibSp\n",
      "0    210\n",
      "1    112\n",
      "2     13\n",
      "3      4\n",
      "4      3\n",
      "Name: SibSp, dtype: int64\n",
      "\n",
      "\n",
      "Number of Death passenger by SibSp :\n",
      "SibSp\n",
      "0    398\n",
      "1     97\n",
      "2     15\n",
      "3     12\n",
      "4     15\n",
      "5      5\n",
      "8      7\n",
      "Name: SibSp, dtype: int64\n"
     ]
    },
    {
     "data": {
      "image/png": "[encoded data removed]",
      "text/plain": [
       "<Figure size 720x720 with 1 Axes>"
      ]
     },
     "metadata": {
      "needs_background": "light"
     },
     "output_type": "display_data"
    }
   ],
   "source": [
    "# Now check how many passengers (not)survived based on no of siblings/spouses the passenger had\n",
    "visualize_data('SibSp')\n",
    "print_survived_data_by_feature(train_df,'SibSp')"
   ]
  },
  {
   "cell_type": "markdown",
   "metadata": {},
   "source": [
    "This looks kind of strange to me . It shows the passengers who were single died mostly, on the otherhand who had 1 sibling or spouse survived slightly higher compared to others. \n",
    "But there are other facts which we need to explore. Moreover,we can say from the data that most of the passengers were single. From the history, we know that most of the people were going to America searching for better life. "
   ]
  },
  {
   "cell_type": "code",
   "execution_count": null,
   "metadata": {},
   "outputs": [],
   "source": []
  },
  {
   "cell_type": "code",
   "execution_count": 2682,
   "metadata": {},
   "outputs": [
    {
     "name": "stdout",
     "output_type": "stream",
     "text": [
      "\n",
      "\n",
      "Number of Survived passenger by Parch :\n",
      "Parch\n",
      "0    233\n",
      "1     65\n",
      "2     40\n",
      "3      3\n",
      "5      1\n",
      "Name: Parch, dtype: int64\n",
      "\n",
      "\n",
      "Number of Death passenger by Parch :\n",
      "Parch\n",
      "0    445\n",
      "1     53\n",
      "2     40\n",
      "3      2\n",
      "4      4\n",
      "5      4\n",
      "6      1\n",
      "Name: Parch, dtype: int64\n"
     ]
    },
    {
     "data": {
      "image/png": "[encoded data removed]",
      "text/plain": [
       "<Figure size 720x720 with 1 Axes>"
      ]
     },
     "metadata": {
      "needs_background": "light"
     },
     "output_type": "display_data"
    }
   ],
   "source": [
    "# Now, check how many passengers (not)survived based on number of parants/children the passenger had\n",
    "visualize_data('Parch')\n",
    "print_survived_data_by_feature(train_df,'Parch')"
   ]
  },
  {
   "cell_type": "markdown",
   "metadata": {},
   "source": [
    "Same thing goes here. Most of the people were single. But we can't draw a conclusion by seeing this graph. This graph shows that single passenger died but passenger who had 1 parent or child survived most compared to others."
   ]
  },
  {
   "cell_type": "code",
   "execution_count": null,
   "metadata": {},
   "outputs": [],
   "source": []
  },
  {
   "cell_type": "code",
   "execution_count": 2683,
   "metadata": {},
   "outputs": [
    {
     "name": "stdout",
     "output_type": "stream",
     "text": [
      "\n",
      "\n",
      "Number of Survived passenger by Embarked :\n",
      "Embarked\n",
      "C     93\n",
      "Q     30\n",
      "S    217\n",
      "Name: Embarked, dtype: int64\n",
      "\n",
      "\n",
      "Number of Death passenger by Embarked :\n",
      "Embarked\n",
      "C     75\n",
      "Q     47\n",
      "S    427\n",
      "Name: Embarked, dtype: int64\n"
     ]
    },
    {
     "data": {
      "image/png": "[encoded data removed]",
      "text/plain": [
       "<Figure size 720x720 with 1 Axes>"
      ]
     },
     "metadata": {
      "needs_background": "light"
     },
     "output_type": "display_data"
    }
   ],
   "source": [
    "# Now, check how many passengers (not)survived based on embarked Port of the passenger\n",
    "visualize_data('Embarked')\n",
    "print_survived_data_by_feature(train_df,'Embarked')"
   ]
  },
  {
   "cell_type": "markdown",
   "metadata": {},
   "source": [
    "we can see that most of the passenger were from Southampton. Passenger who were from Cherbourg, survived most compared to others. On the contrary, passenger from Southampton and Queenstown  didn't survived that much.  "
   ]
  },
  {
   "cell_type": "code",
   "execution_count": null,
   "metadata": {},
   "outputs": [],
   "source": []
  },
  {
   "cell_type": "markdown",
   "metadata": {},
   "source": [
    "### Feature engineering"
   ]
  },
  {
   "cell_type": "markdown",
   "metadata": {},
   "source": [
    "If we see the Name column, first it might seem unnecessary for our analysis. But if we pay a closer look then we can get a necessary information from the Name colum.\n",
    "It gives us the information regarding the title of the passenger and this information might be useful for our analysis.\n",
    "So, we extract the title from the Name colum and make a new column named Title and remove the Name colum from the dataset."
   ]
  },
  {
   "cell_type": "code",
   "execution_count": 2684,
   "metadata": {},
   "outputs": [],
   "source": [
    "#working with Name\n",
    "import re\n",
    "# This function is a helper function of title_feature function\n",
    "def extract_title(name):\n",
    "    title_search = re.search(' ([A-Za-z]+)\\.', name)\n",
    "    # If the title exists, extract and return it.\n",
    "    if title_search:\n",
    "        return title_search.group(1)\n",
    "    return \"\"\n",
    "\n",
    "# This function is used to make a new column named 'Title' \n",
    "# which extracts the title from the 'Name' column as the title always ends with a dot(.) \n",
    "def title_feature(train_df,test_df):\n",
    "    for data in [train_df,test_df]:\n",
    "        data['Title'] = data['Name'].apply(extract_title)\n",
    "        del data['Name']\n",
    "    return train_df,test_df    "
   ]
  },
  {
   "cell_type": "code",
   "execution_count": 2685,
   "metadata": {},
   "outputs": [],
   "source": [
    "train_df, test_df = title_feature(train_df,test_df)"
   ]
  },
  {
   "cell_type": "code",
   "execution_count": 2686,
   "metadata": {},
   "outputs": [
    {
     "name": "stdout",
     "output_type": "stream",
     "text": [
      "Unique Titles in train data\n",
      "Mr          517\n",
      "Miss        182\n",
      "Mrs         125\n",
      "Master       40\n",
      "Dr            7\n",
      "Rev           6\n",
      "Major         2\n",
      "Col           2\n",
      "Mlle          2\n",
      "Capt          1\n",
      "Jonkheer      1\n",
      "Mme           1\n",
      "Lady          1\n",
      "Ms            1\n",
      "Countess      1\n",
      "Sir           1\n",
      "Don           1\n",
      "Name: Title, dtype: int64\n",
      "\n",
      "Unique Titles in test data\n",
      "Mr        240\n",
      "Miss       78\n",
      "Mrs        72\n",
      "Master     21\n",
      "Rev         2\n",
      "Col         2\n",
      "Ms          1\n",
      "Dona        1\n",
      "Dr          1\n",
      "Name: Title, dtype: int64\n"
     ]
    }
   ],
   "source": [
    "print('Unique Titles in train data')\n",
    "print(train_df['Title'].value_counts())\n",
    "print('\\nUnique Titles in test data')\n",
    "print(test_df['Title'].value_counts())"
   ]
  },
  {
   "cell_type": "markdown",
   "metadata": {},
   "source": [
    "As we see that we have 17 unique titles but we can divide them into 5 title categories namely Mr,Miss,Mrs,Master and others."
   ]
  },
  {
   "cell_type": "code",
   "execution_count": 2687,
   "metadata": {},
   "outputs": [],
   "source": [
    "# so categorize the titles\n",
    "title_mapping = { \"Mr\": \"Mr\", \"Miss\": \"Miss\", \"Mrs\": \"Mrs\", \n",
    "                 \"Master\": \"Master\",\"Dr\": \"Others\", \"Rev\": \"Others\", \"Col\": \"Others\", \"Major\": \"Others\",\n",
    "                 \"Mlle\": \"Others\",\"Countess\": \"Others\",\n",
    "                 \"Ms\": \"Others\", \"Lady\": \"Others\", \"Jonkheer\": \"Others\",\n",
    "                 \"Don\": \"Others\", \"Dona\" : \"Others\", \"Mme\": \"Others\",\n",
    "                 \"Capt\": \"Others\",\"Sir\": \"Others\" }\n",
    "def title_binning(train_df,test_df):\n",
    "    for data in [train_df,test_df]:\n",
    "        data['Title'] = data['Title'].map(title_mapping)\n",
    "    return  train_df,test_df   "
   ]
  },
  {
   "cell_type": "code",
   "execution_count": 2688,
   "metadata": {},
   "outputs": [],
   "source": [
    "train_df, test_df = title_binning(train_df,test_df)"
   ]
  },
  {
   "cell_type": "code",
   "execution_count": 2689,
   "metadata": {},
   "outputs": [
    {
     "name": "stdout",
     "output_type": "stream",
     "text": [
      "Now we have 5 unique Titles in train data:\n",
      "Mr        517\n",
      "Miss      182\n",
      "Mrs       125\n",
      "Master     40\n",
      "Others     27\n",
      "Name: Title, dtype: int64\n"
     ]
    }
   ],
   "source": [
    "print('Now we have 5 unique Titles in train data:')\n",
    "print(train_df['Title'].value_counts())"
   ]
  },
  {
   "cell_type": "code",
   "execution_count": 2690,
   "metadata": {},
   "outputs": [
    {
     "name": "stdout",
     "output_type": "stream",
     "text": [
      "\n",
      "\n",
      "Number of Survived passenger by Title :\n",
      "Title\n",
      "Master     23\n",
      "Miss      127\n",
      "Mr         81\n",
      "Mrs        99\n",
      "Others     12\n",
      "Name: Title, dtype: int64\n",
      "\n",
      "\n",
      "Number of Death passenger by Title :\n",
      "Title\n",
      "Master     17\n",
      "Miss       55\n",
      "Mr        436\n",
      "Mrs        26\n",
      "Others     15\n",
      "Name: Title, dtype: int64\n"
     ]
    },
    {
     "data": {
      "image/png": "[encoded data removed]",
      "text/plain": [
       "<Figure size 720x720 with 1 Axes>"
      ]
     },
     "metadata": {
      "needs_background": "light"
     },
     "output_type": "display_data"
    }
   ],
   "source": [
    "visualize_data('Title')\n",
    "print_survived_data_by_feature(train_df,'Title')"
   ]
  },
  {
   "cell_type": "markdown",
   "metadata": {},
   "source": [
    "We can see that passenger with title 'Mr' died mostly and passenger titled 'Mrs' and 'Miss' survived mostly. This is because we know that the officers of the titanic gave the order that \"women and children\" should go first on the lifeboat. "
   ]
  },
  {
   "cell_type": "code",
   "execution_count": null,
   "metadata": {},
   "outputs": [],
   "source": []
  },
  {
   "cell_type": "markdown",
   "metadata": {},
   "source": [
    "Here, we will create a new column named 'FamilySize' combining the colums 'SibSp' and 'Parach'. We also add one during the calculation as we include the passender himself into the familySize variable. Finally, we will delete the 'SibSp' and 'Parach' columns from the dataset."
   ]
  },
  {
   "cell_type": "code",
   "execution_count": 2691,
   "metadata": {},
   "outputs": [],
   "source": [
    "#working with family size\n",
    "#This function makes a new feature named 'FamilySize' where it has 3 types of family size namely 'Single','Small','Big'\n",
    "def binned_family_size_feature(train_df,test_df):\n",
    "    for data in [train_df,test_df]:\n",
    "        fsize =  data['SibSp'] + data['Parch'] + 1\n",
    "        data['FamilySize'] =np.where(fsize==1,'Single',np.where(fsize<=3,'Small','Big'))\n",
    "        del data['SibSp']\n",
    "        del data['Parch']\n",
    "    return train_df,test_df  "
   ]
  },
  {
   "cell_type": "code",
   "execution_count": 2692,
   "metadata": {},
   "outputs": [],
   "source": [
    "train_df, test_df = binned_family_size_feature(train_df,test_df)"
   ]
  },
  {
   "cell_type": "code",
   "execution_count": 2693,
   "metadata": {},
   "outputs": [
    {
     "name": "stdout",
     "output_type": "stream",
     "text": [
      "\n",
      "\n",
      "Number of Survived passenger by FamilySize :\n",
      "FamilySize\n",
      "Big        31\n",
      "Single    163\n",
      "Small     148\n",
      "Name: FamilySize, dtype: int64\n",
      "\n",
      "\n",
      "Number of Death passenger by FamilySize :\n",
      "FamilySize\n",
      "Big        60\n",
      "Single    374\n",
      "Small     115\n",
      "Name: FamilySize, dtype: int64\n"
     ]
    },
    {
     "data": {
      "image/png": "[encoded data removed]",
      "text/plain": [
       "<Figure size 720x720 with 1 Axes>"
      ]
     },
     "metadata": {
      "needs_background": "light"
     },
     "output_type": "display_data"
    }
   ],
   "source": [
    "visualize_data('FamilySize')\n",
    "print_survived_data_by_feature(train_df,'FamilySize')"
   ]
  },
  {
   "cell_type": "markdown",
   "metadata": {},
   "source": [
    "We can infer from the chart that passenger who had small family survived most but who had single and big family didn't survive that much. "
   ]
  },
  {
   "cell_type": "code",
   "execution_count": null,
   "metadata": {},
   "outputs": [],
   "source": []
  },
  {
   "cell_type": "markdown",
   "metadata": {},
   "source": [
    "As the 'Age' column had 177(20%) missing value, we need to fill the missing value. Instead of the total average age, we can fill the missing Age column according to their title.\n",
    "As we already know their title, we can fill the missing value by grouping the title and taking the median of that title group."
   ]
  },
  {
   "cell_type": "code",
   "execution_count": 2694,
   "metadata": {},
   "outputs": [],
   "source": [
    "#working with age\n",
    "# This function is used to fill the missing values of age column with the median age value of respective 'Title'\n",
    "def fill_missing_age(train_df,test_df):\n",
    "    for data in [train_df,test_df]:\n",
    "        train_df[\"Age\"].fillna(train_df.groupby(\"Title\")[\"Age\"].transform(\"median\"), inplace=True)\n",
    "        test_df[\"Age\"].fillna(train_df.groupby(\"Title\")[\"Age\"].transform(\"median\"), inplace=True)   \n",
    "    return train_df,test_df  "
   ]
  },
  {
   "cell_type": "code",
   "execution_count": 2695,
   "metadata": {},
   "outputs": [
    {
     "name": "stdout",
     "output_type": "stream",
     "text": [
      "Before filling - Missing Age Count: 177\n",
      "After filling - Missing Age Count: 0\n"
     ]
    }
   ],
   "source": [
    "print('Before filling - Missing Age Count: '+str(train_df['Age'].isnull().sum()))\n",
    "train_df, test_df = fill_missing_age(train_df,test_df)\n",
    "print('After filling - Missing Age Count: '+str(train_df['Age'].isnull().sum()))"
   ]
  },
  {
   "cell_type": "code",
   "execution_count": 2696,
   "metadata": {},
   "outputs": [],
   "source": [
    "#This function is used to make 5 bins of Age column namely 'Child','Young','Adult','Mid-age' and 'Senior'\n",
    "def age_binning(train_df,test_df):    \n",
    "    for data in [train_df,test_df]:\n",
    "        data['Age'] =np.where(data['Age'] <=14,'Child',\n",
    "                              np.where(((data['Age'] > 14) & (data['Age'] <= 22)),'Young',\n",
    "                                       np.where(((data['Age'] > 22) & (data['Age'] <= 36)),'Adult',\n",
    "                                                np.where(((data['Age'] > 36) & (data['Age'] <= 55)),'Mid-age','Senior'))))\n",
    "    return train_df,test_df     "
   ]
  },
  {
   "cell_type": "code",
   "execution_count": 2697,
   "metadata": {},
   "outputs": [],
   "source": [
    "train_df, test_df = age_binning(train_df,test_df)"
   ]
  },
  {
   "cell_type": "code",
   "execution_count": 2698,
   "metadata": {},
   "outputs": [
    {
     "name": "stdout",
     "output_type": "stream",
     "text": [
      "\n",
      "\n",
      "Number of Survived passenger by Age :\n",
      "Age\n",
      "Adult      148\n",
      "Child       47\n",
      "Mid-age     60\n",
      "Senior      12\n",
      "Young       75\n",
      "Name: Age, dtype: int64\n",
      "\n",
      "\n",
      "Number of Death passenger by Age :\n",
      "Age\n",
      "Adult      276\n",
      "Child       34\n",
      "Mid-age     96\n",
      "Senior      28\n",
      "Young      115\n",
      "Name: Age, dtype: int64\n"
     ]
    },
    {
     "data": {
      "image/png": "[encoded data removed]",
      "text/plain": [
       "<Figure size 720x720 with 1 Axes>"
      ]
     },
     "metadata": {
      "needs_background": "light"
     },
     "output_type": "display_data"
    }
   ],
   "source": [
    "visualize_data('Age')\n",
    "print_survived_data_by_feature(train_df,'Age')"
   ]
  },
  {
   "cell_type": "markdown",
   "metadata": {},
   "source": [
    "Here, we can see that the adult passenger died mostly and the child passenger survived mostly as we already know the fact of preference during the lifeboat allocation."
   ]
  },
  {
   "cell_type": "code",
   "execution_count": null,
   "metadata": {},
   "outputs": [],
   "source": []
  },
  {
   "cell_type": "markdown",
   "metadata": {},
   "source": [
    "In the test data fare has 1 missing value . First will indentify the passengerID of that data and then fill the NA value with the median of the Pclass value. "
   ]
  },
  {
   "cell_type": "code",
   "execution_count": 2699,
   "metadata": {},
   "outputs": [
    {
     "name": "stdout",
     "output_type": "stream",
     "text": [
      "Pclass\n",
      "1    60.2875\n",
      "2    14.2500\n",
      "3     8.0500\n",
      "Name: Fare, dtype: float64\n"
     ]
    }
   ],
   "source": [
    "#pint(train_df.groupby(\"Pclass\")[\"Fare\"].median()[3]) \n",
    "print(train_df.groupby(\"Pclass\")[\"Fare\"].median())"
   ]
  },
  {
   "cell_type": "code",
   "execution_count": 2700,
   "metadata": {},
   "outputs": [
    {
     "name": "stdout",
     "output_type": "stream",
     "text": [
      "152    1044\n",
      "Name: PassengerId, dtype: int64\n",
      "Series([], Name: PassengerId, dtype: int64)\n"
     ]
    }
   ],
   "source": [
    "# find the PassengerId of that missing Fare value\n",
    "print(test_df.loc[ test_df['Fare'].isnull()==True]['PassengerId'])\n",
    "test_df.loc[ test_df['Fare'].isnull()==True]\n",
    "#then fill the missing fare value of that passengerID\n",
    "test_df.loc[test_df['PassengerId'] == 1044, 'Fare'] = test_df.groupby(\"Pclass\")[\"Fare\"].median()[3]\n",
    "#check whether that passengerID with NA be found\n",
    "print(test_df.loc[ test_df['Fare'].isnull()==True]['PassengerId'])"
   ]
  },
  {
   "cell_type": "code",
   "execution_count": 2701,
   "metadata": {},
   "outputs": [
    {
     "data": {
      "image/png": "[encoded data removed]",
      "text/plain": [
       "<Figure size 915.875x216 with 1 Axes>"
      ]
     },
     "metadata": {
      "needs_background": "light"
     },
     "output_type": "display_data"
    }
   ],
   "source": [
    "# check the survival data with respect of Fare column\n",
    "facet = sns.FacetGrid(train_df, hue=\"Survived\",aspect=4)\n",
    "facet.map(sns.kdeplot,'Fare',shade= True)\n",
    "facet.set(xlim=(0, train_df['Fare'].max()))\n",
    "facet.add_legend()\n",
    "#plt.xlim(0, 30)\n",
    "plt.show()"
   ]
  },
  {
   "cell_type": "code",
   "execution_count": 2702,
   "metadata": {},
   "outputs": [
    {
     "data": {
      "image/png": "[encoded data removed]",
      "text/plain": [
       "<Figure size 915.875x216 with 1 Axes>"
      ]
     },
     "metadata": {
      "needs_background": "light"
     },
     "output_type": "display_data"
    }
   ],
   "source": [
    "# we can take a closer look at the beginning of the graph (Zoom in view)\n",
    "facet = sns.FacetGrid(train_df, hue=\"Survived\",aspect=4)\n",
    "facet.map(sns.kdeplot,'Fare',shade= True)\n",
    "facet.set(xlim=(0, train_df['Fare'].max()))\n",
    "facet.add_legend()\n",
    "plt.xlim(0, 30)\n",
    "plt.show()"
   ]
  },
  {
   "cell_type": "markdown",
   "metadata": {},
   "source": [
    "We can say that passenger who brought ticker within 10 dollar, the survival rate was low. This might be the reason that these were the 3rd class ticket and we have seen that passenger of 3rd class died mostly."
   ]
  },
  {
   "cell_type": "code",
   "execution_count": 2703,
   "metadata": {},
   "outputs": [],
   "source": [
    "def fare_binning(train_df,test_df):    \n",
    "    for data in [train_df,test_df]:\n",
    "        data['Fare'] =np.where(data['Fare'] <=15,'Low',\n",
    "                              np.where(((data['Fare'] > 15) & (data['Fare'] <= 35)),'Medium',\n",
    "                                       np.where(((data['Fare'] > 35) & (data['Fare'] <= 100)),'High','Extreme')))\n",
    "    return train_df,test_df  "
   ]
  },
  {
   "cell_type": "code",
   "execution_count": 2704,
   "metadata": {},
   "outputs": [],
   "source": [
    "train_df, test_df = fare_binning(train_df,test_df)"
   ]
  },
  {
   "cell_type": "code",
   "execution_count": 2705,
   "metadata": {},
   "outputs": [
    {
     "name": "stdout",
     "output_type": "stream",
     "text": [
      "\n",
      "\n",
      "Number of Survived passenger by Fare :\n",
      "Fare\n",
      "Extreme     39\n",
      "High        84\n",
      "Low        114\n",
      "Medium     105\n",
      "Name: Fare, dtype: int64\n",
      "\n",
      "\n",
      "Number of Death passenger by Fare :\n",
      "Fare\n",
      "Extreme     14\n",
      "High        61\n",
      "Low        344\n",
      "Medium     130\n",
      "Name: Fare, dtype: int64\n"
     ]
    },
    {
     "data": {
      "image/png": "[encoded data removed]",
      "text/plain": [
       "<Figure size 720x720 with 1 Axes>"
      ]
     },
     "metadata": {
      "needs_background": "light"
     },
     "output_type": "display_data"
    }
   ],
   "source": [
    "visualize_data('Fare')\n",
    "print_survived_data_by_feature(train_df,'Fare')"
   ]
  },
  {
   "cell_type": "markdown",
   "metadata": {},
   "source": [
    "So, we can see that passenger who brought the ticket with low cost died mostly but who brought the ticket with medium,high and extreme price had the higher survival rate."
   ]
  },
  {
   "cell_type": "code",
   "execution_count": null,
   "metadata": {},
   "outputs": [],
   "source": []
  },
  {
   "cell_type": "markdown",
   "metadata": {},
   "source": [
    "###### From the wikipedia, we know followings:\n",
    "    'All three of the Olympic-class ships had ten decks(cabin) \n",
    "    (excluding the top of the officers' quarters),\n",
    "     eight of which were for passenger use'. \n",
    "From the dataset,we see that cabin has some extra number with it.But, If we extract the first letter from the cabin numbers, we get 8 cabins which matchs with the wiki information."
   ]
  },
  {
   "cell_type": "code",
   "execution_count": 2706,
   "metadata": {},
   "outputs": [
    {
     "name": "stdout",
     "output_type": "stream",
     "text": [
      "No of total Cabin(which includes different numbers)148\n",
      "[nan 'C85' 'C123' 'E46' 'G6' 'C103' 'D56' 'A6' 'C23 C25 C27' 'B78' 'D33'\n",
      " 'B30' 'C52' 'B28' 'C83' 'F33' 'F G73' 'E31' 'A5' 'D10 D12' 'D26' 'C110'\n",
      " 'B58 B60' 'E101' 'F E69' 'D47' 'B86' 'F2' 'C2' 'E33' 'B19' 'A7' 'C49'\n",
      " 'F4' 'A32' 'B4' 'B80' 'A31' 'D36' 'D15' 'C93' 'C78' 'D35' 'C87' 'B77'\n",
      " 'E67' 'B94' 'C125' 'C99' 'C118' 'D7' 'A19' 'B49' 'D' 'C22 C26' 'C106'\n",
      " 'C65' 'E36' 'C54' 'B57 B59 B63 B66' 'C7' 'E34' 'C32' 'B18' 'C124' 'C91'\n",
      " 'E40' 'T' 'C128' 'D37' 'B35' 'E50' 'C82' 'B96 B98' 'E10' 'E44' 'A34'\n",
      " 'C104' 'C111' 'C92' 'E38' 'D21' 'E12' 'E63' 'A14' 'B37' 'C30' 'D20' 'B79'\n",
      " 'E25' 'D46' 'B73' 'C95' 'B38' 'B39' 'B22' 'C86' 'C70' 'A16' 'C101' 'C68'\n",
      " 'A10' 'E68' 'B41' 'A20' 'D19' 'D50' 'D9' 'A23' 'B50' 'A26' 'D48' 'E58'\n",
      " 'C126' 'B71' 'B51 B53 B55' 'D49' 'B5' 'B20' 'F G63' 'C62 C64' 'E24' 'C90'\n",
      " 'C45' 'E8' 'B101' 'D45' 'C46' 'D30' 'E121' 'D11' 'E77' 'F38' 'B3' 'D6'\n",
      " 'B82 B84' 'D17' 'A36' 'B102' 'B69' 'E49' 'C47' 'D28' 'E17' 'A24' 'C50'\n",
      " 'B42' 'C148']\n"
     ]
    }
   ],
   "source": [
    "#working with Cabin\n",
    "cbn = train_df['Cabin'].unique()\n",
    "print('No of total Cabin(which includes different numbers)'+str(len(cbn)))\n",
    "print(cbn)"
   ]
  },
  {
   "cell_type": "code",
   "execution_count": 2707,
   "metadata": {},
   "outputs": [],
   "source": [
    "# this function extracts actual cabin letter(information)\n",
    "def cabin_formation(train_df,test_df):\n",
    "    for data in [train_df,test_df]:\n",
    "        data['Cabin'] = data['Cabin'].str[:1]\n",
    "    return train_df,test_df   "
   ]
  },
  {
   "cell_type": "code",
   "execution_count": 2708,
   "metadata": {},
   "outputs": [],
   "source": [
    "train_df, test_df = cabin_formation(train_df,test_df)\n"
   ]
  },
  {
   "cell_type": "code",
   "execution_count": 2709,
   "metadata": {},
   "outputs": [
    {
     "name": "stdout",
     "output_type": "stream",
     "text": [
      "\n",
      "\n",
      "Number of Survived passenger by Cabin :\n",
      "Cabin\n",
      "A     7\n",
      "B    35\n",
      "C    35\n",
      "D    25\n",
      "E    24\n",
      "F     8\n",
      "G     2\n",
      "Name: Cabin, dtype: int64\n",
      "\n",
      "\n",
      "Number of Death passenger by Cabin :\n",
      "Cabin\n",
      "A     8\n",
      "B    12\n",
      "C    24\n",
      "D     8\n",
      "E     8\n",
      "F     5\n",
      "G     2\n",
      "T     1\n",
      "Name: Cabin, dtype: int64\n"
     ]
    },
    {
     "data": {
      "image/png": "[encoded data removed]",
      "text/plain": [
       "<Figure size 720x720 with 1 Axes>"
      ]
     },
     "metadata": {
      "needs_background": "light"
     },
     "output_type": "display_data"
    }
   ],
   "source": [
    "visualize_data('Cabin')\n",
    "print_survived_data_by_feature(train_df,'Cabin')"
   ]
  },
  {
   "cell_type": "markdown",
   "metadata": {},
   "source": [
    "We see that cabin B,C,D,E,F  have higher survival rate. There are some explanation for that which will be given below."
   ]
  },
  {
   "cell_type": "code",
   "execution_count": 2710,
   "metadata": {},
   "outputs": [
    {
     "data": {
      "text/plain": [
       "<matplotlib.axes._subplots.AxesSubplot at 0x22a6da2be10>"
      ]
     },
     "execution_count": 2710,
     "metadata": {},
     "output_type": "execute_result"
    },
    {
     "data": {
      "image/png": "[encoded data removed]",
      "text/plain": [
       "<Figure size 720x360 with 1 Axes>"
      ]
     },
     "metadata": {
      "needs_background": "light"
     },
     "output_type": "display_data"
    }
   ],
   "source": [
    "class1 = train_df[train_df['Pclass']==1]['Cabin'].value_counts()\n",
    "class2 = train_df[train_df['Pclass']==2]['Cabin'].value_counts()\n",
    "class3 = train_df[train_df['Pclass']==3]['Cabin'].value_counts()\n",
    "df = pd.DataFrame([class1, class2, class3])\n",
    "df.index = ['1st class','2nd class', '3rd class']\n",
    "df.plot(kind='bar',stacked=True, figsize=(10,5))"
   ]
  },
  {
   "cell_type": "markdown",
   "metadata": {},
   "source": [
    "From here, we can delineate that first class has cabin A, B,C,D,E , 2nd class contains cabin D,E,F  and  3rd class contains E,F,G.\n",
    "An interesting face is that every class has a common cabin E which has higher survival rate. \n",
    "Previously we saw that cabin  B,C,D,E had higher survival rate. The is reason is that all these cabin is from first class."
   ]
  },
  {
   "cell_type": "code",
   "execution_count": null,
   "metadata": {},
   "outputs": [],
   "source": []
  },
  {
   "cell_type": "markdown",
   "metadata": {},
   "source": [
    "As around 77% of 'Cabin' data is missing , it would not be a good idea to fill the missing value. Instead, we should remove the 'Cabin' column from our dataset inorder to avoid biased model. "
   ]
  },
  {
   "cell_type": "code",
   "execution_count": 2711,
   "metadata": {},
   "outputs": [],
   "source": [
    "# Remove 'Cabin' column from dataset\n",
    "train_df.drop(['Cabin'],axis=1,inplace=True)\n",
    "test_df.drop(['Cabin'],axis=1,inplace=True)"
   ]
  },
  {
   "cell_type": "code",
   "execution_count": 2712,
   "metadata": {},
   "outputs": [
    {
     "data": {
      "text/html": [
       "<div>\n",
       "<style scoped>\n",
       "    .dataframe tbody tr th:only-of-type {\n",
       "        vertical-align: middle;\n",
       "    }\n",
       "\n",
       "    .dataframe tbody tr th {\n",
       "        vertical-align: top;\n",
       "    }\n",
       "\n",
       "    .dataframe thead th {\n",
       "        text-align: right;\n",
       "    }\n",
       "</style>\n",
       "<table border=\"1\" class=\"dataframe\">\n",
       "  <thead>\n",
       "    <tr style=\"text-align: right;\">\n",
       "      <th></th>\n",
       "      <th>PassengerId</th>\n",
       "      <th>Survived</th>\n",
       "      <th>Pclass</th>\n",
       "      <th>Sex</th>\n",
       "      <th>Age</th>\n",
       "      <th>Ticket</th>\n",
       "      <th>Fare</th>\n",
       "      <th>Embarked</th>\n",
       "      <th>Title</th>\n",
       "      <th>FamilySize</th>\n",
       "    </tr>\n",
       "  </thead>\n",
       "  <tbody>\n",
       "    <tr>\n",
       "      <th>0</th>\n",
       "      <td>1</td>\n",
       "      <td>0</td>\n",
       "      <td>3</td>\n",
       "      <td>male</td>\n",
       "      <td>Young</td>\n",
       "      <td>A/5 21171</td>\n",
       "      <td>Low</td>\n",
       "      <td>S</td>\n",
       "      <td>Mr</td>\n",
       "      <td>Small</td>\n",
       "    </tr>\n",
       "    <tr>\n",
       "      <th>1</th>\n",
       "      <td>2</td>\n",
       "      <td>1</td>\n",
       "      <td>1</td>\n",
       "      <td>female</td>\n",
       "      <td>Mid-age</td>\n",
       "      <td>PC 17599</td>\n",
       "      <td>High</td>\n",
       "      <td>C</td>\n",
       "      <td>Mrs</td>\n",
       "      <td>Small</td>\n",
       "    </tr>\n",
       "    <tr>\n",
       "      <th>2</th>\n",
       "      <td>3</td>\n",
       "      <td>1</td>\n",
       "      <td>3</td>\n",
       "      <td>female</td>\n",
       "      <td>Adult</td>\n",
       "      <td>STON/O2. 3101282</td>\n",
       "      <td>Low</td>\n",
       "      <td>S</td>\n",
       "      <td>Miss</td>\n",
       "      <td>Single</td>\n",
       "    </tr>\n",
       "    <tr>\n",
       "      <th>3</th>\n",
       "      <td>4</td>\n",
       "      <td>1</td>\n",
       "      <td>1</td>\n",
       "      <td>female</td>\n",
       "      <td>Adult</td>\n",
       "      <td>113803</td>\n",
       "      <td>High</td>\n",
       "      <td>S</td>\n",
       "      <td>Mrs</td>\n",
       "      <td>Small</td>\n",
       "    </tr>\n",
       "    <tr>\n",
       "      <th>4</th>\n",
       "      <td>5</td>\n",
       "      <td>0</td>\n",
       "      <td>3</td>\n",
       "      <td>male</td>\n",
       "      <td>Adult</td>\n",
       "      <td>373450</td>\n",
       "      <td>Low</td>\n",
       "      <td>S</td>\n",
       "      <td>Mr</td>\n",
       "      <td>Single</td>\n",
       "    </tr>\n",
       "  </tbody>\n",
       "</table>\n",
       "</div>"
      ],
      "text/plain": [
       "   PassengerId  Survived  Pclass     Sex      Age            Ticket  Fare  \\\n",
       "0            1         0       3    male    Young         A/5 21171   Low   \n",
       "1            2         1       1  female  Mid-age          PC 17599  High   \n",
       "2            3         1       3  female    Adult  STON/O2. 3101282   Low   \n",
       "3            4         1       1  female    Adult            113803  High   \n",
       "4            5         0       3    male    Adult            373450   Low   \n",
       "\n",
       "  Embarked Title FamilySize  \n",
       "0        S    Mr      Small  \n",
       "1        C   Mrs      Small  \n",
       "2        S  Miss     Single  \n",
       "3        S   Mrs      Small  \n",
       "4        S    Mr     Single  "
      ]
     },
     "execution_count": 2712,
     "metadata": {},
     "output_type": "execute_result"
    }
   ],
   "source": [
    "train_df.head()"
   ]
  },
  {
   "cell_type": "code",
   "execution_count": null,
   "metadata": {},
   "outputs": [],
   "source": []
  },
  {
   "cell_type": "code",
   "execution_count": 2713,
   "metadata": {},
   "outputs": [
    {
     "data": {
      "text/plain": [
       "<matplotlib.axes._subplots.AxesSubplot at 0x22a6d6e8d68>"
      ]
     },
     "execution_count": 2713,
     "metadata": {},
     "output_type": "execute_result"
    },
    {
     "data": {
      "image/png": "[encoded data removed]",
      "text/plain": [
       "<Figure size 432x288 with 1 Axes>"
      ]
     },
     "metadata": {
      "needs_background": "light"
     },
     "output_type": "display_data"
    }
   ],
   "source": [
    "#working with Embarked\n",
    "sns.countplot(train_df['Embarked'])"
   ]
  },
  {
   "cell_type": "markdown",
   "metadata": {},
   "source": [
    "We can see that most of the passengers were from Southampton"
   ]
  },
  {
   "cell_type": "code",
   "execution_count": 2714,
   "metadata": {},
   "outputs": [
    {
     "data": {
      "text/plain": [
       "<matplotlib.axes._subplots.AxesSubplot at 0x22a6d67c080>"
      ]
     },
     "execution_count": 2714,
     "metadata": {},
     "output_type": "execute_result"
    },
    {
     "data": {
      "image/png": "[encoded data removed]",
      "text/plain": [
       "<Figure size 720x360 with 1 Axes>"
      ]
     },
     "metadata": {
      "needs_background": "light"
     },
     "output_type": "display_data"
    }
   ],
   "source": [
    "Pclass1 = train_df[train_df['Pclass']==1]['Embarked'].value_counts()\n",
    "Pclass2 = train_df[train_df['Pclass']==2]['Embarked'].value_counts()\n",
    "Pclass3 = train_df[train_df['Pclass']==3]['Embarked'].value_counts()\n",
    "df = pd.DataFrame([Pclass1, Pclass2, Pclass3])\n",
    "df.index = ['1st class','2nd class', '3rd class']\n",
    "df.plot(kind='bar',stacked=True, figsize=(10,5))"
   ]
  },
  {
   "cell_type": "markdown",
   "metadata": {},
   "source": [
    "We also can infer that most of the 3rd class passengers were from Southampton which is a city of England. If we go to the history, it was a poor city compare to others and people wanted to move to America searching for work. This explains why there were many 3rd class passengers from the Southampton."
   ]
  },
  {
   "cell_type": "code",
   "execution_count": 2715,
   "metadata": {},
   "outputs": [],
   "source": [
    "#as most of the passenger came from Southampton, we fill the missing value of 'Embarked' column with 'S'\n",
    "def fill_missing_embarked(train_df,test_df):\n",
    "    for data in [train_df,test_df]:\n",
    "        data[\"Embarked\"]=data[\"Embarked\"].fillna('S')\n",
    "    return train_df,test_df  "
   ]
  },
  {
   "cell_type": "code",
   "execution_count": 2716,
   "metadata": {},
   "outputs": [],
   "source": [
    "train_df, test_df = fill_missing_embarked(train_df,test_df)"
   ]
  },
  {
   "cell_type": "code",
   "execution_count": 2717,
   "metadata": {},
   "outputs": [
    {
     "data": {
      "text/plain": [
       "PassengerId    0\n",
       "Survived       0\n",
       "Pclass         0\n",
       "Sex            0\n",
       "Age            0\n",
       "Ticket         0\n",
       "Fare           0\n",
       "Embarked       0\n",
       "Title          0\n",
       "FamilySize     0\n",
       "dtype: int64"
      ]
     },
     "execution_count": 2717,
     "metadata": {},
     "output_type": "execute_result"
    }
   ],
   "source": [
    "# so now, we dont have any missing value in our dataset\n",
    "train_df.isnull().sum()"
   ]
  },
  {
   "cell_type": "code",
   "execution_count": 2718,
   "metadata": {},
   "outputs": [
    {
     "name": "stdout",
     "output_type": "stream",
     "text": [
      "\n",
      "\n",
      "Number of Survived passenger by Embarked :\n",
      "Embarked\n",
      "C     93\n",
      "Q     30\n",
      "S    219\n",
      "Name: Embarked, dtype: int64\n",
      "\n",
      "\n",
      "Number of Death passenger by Embarked :\n",
      "Embarked\n",
      "C     75\n",
      "Q     47\n",
      "S    427\n",
      "Name: Embarked, dtype: int64\n"
     ]
    },
    {
     "data": {
      "image/png": "[encoded data removed]",
      "text/plain": [
       "<Figure size 720x720 with 1 Axes>"
      ]
     },
     "metadata": {
      "needs_background": "light"
     },
     "output_type": "display_data"
    }
   ],
   "source": [
    "visualize_data('Embarked')\n",
    "print_survived_data_by_feature(train_df,'Embarked')"
   ]
  },
  {
   "cell_type": "markdown",
   "metadata": {},
   "source": [
    "We can see that most of the passengers who departed from the 'Southampton' didn't survive."
   ]
  },
  {
   "cell_type": "code",
   "execution_count": null,
   "metadata": {},
   "outputs": [],
   "source": []
  },
  {
   "cell_type": "markdown",
   "metadata": {},
   "source": [
    "As I didn't find any uses or any relation with Ticket column data, hence i have decided to drop the 'Ticket' column from the dataset. "
   ]
  },
  {
   "cell_type": "code",
   "execution_count": 2719,
   "metadata": {},
   "outputs": [],
   "source": [
    "train_df.drop(['Ticket'],axis=1,inplace=True)\n",
    "test_df.drop(['Ticket'],axis=1,inplace=True)"
   ]
  },
  {
   "cell_type": "code",
   "execution_count": null,
   "metadata": {},
   "outputs": [],
   "source": []
  },
  {
   "cell_type": "markdown",
   "metadata": {},
   "source": [
    "##### Encoding categorical  values"
   ]
  },
  {
   "cell_type": "markdown",
   "metadata": {},
   "source": [
    "As 'Sex' has two values(male or female) and they dont have any order. So, in this case we should use label encoding.\n",
    "Similarly, 'Embarked' and 'Title' column values have no order and we will use label encoding for these.\n",
    "On the otherhand, 'Pclass','Age','Fare','FamilySize' columns have order. So, we will use ordinal encoding for these columns."
   ]
  },
  {
   "cell_type": "code",
   "execution_count": 2720,
   "metadata": {},
   "outputs": [],
   "source": [
    "# this function encodes feature with ordinal encodeing where order matters  \n",
    "def ordinal_encoding(feature,mapping):\n",
    "    for data in [train_df,test_df]:\n",
    "        data[feature] = data[feature].map(mapping)"
   ]
  },
  {
   "cell_type": "code",
   "execution_count": 2721,
   "metadata": {},
   "outputs": [],
   "source": [
    "# # this function encodes feature with label encodeing by creating new columns with each values\n",
    "def label_encoding(feature):\n",
    "    train=pd.get_dummies(train_df,columns=[feature]) #,drop_first=True\n",
    "    test=pd.get_dummies(test_df,columns=[feature]) #,drop_first=True\n",
    "    return train,test"
   ]
  },
  {
   "cell_type": "code",
   "execution_count": 2722,
   "metadata": {},
   "outputs": [],
   "source": [
    "#encoding technique one with mix(label,ordinal) encoding\n",
    "#def encoding_technique_one():\n",
    "#map 'Sex' column \n",
    "train_df,test_df=label_encoding('Sex')\n",
    "#map 'Age' column \n",
    "ordinal_encoding('Age',{'Child':0,'Young':1,'Adult':2,'Mid-age':3,'Senior':4})\n",
    "#map 'Pclass' column \n",
    " #already in order\n",
    "#map 'Fare' column \n",
    "ordinal_encoding('Fare',{'Low':0,'Medium':1,'High':2,'Extreme':3})\n",
    "#map 'Embarked' column \n",
    "train_df,test_df=label_encoding('Embarked')\n",
    "#map 'Title' column \n",
    "train_df,test_df=label_encoding('Title')\n",
    "#map 'FamilySize' column \n",
    "ordinal_encoding('FamilySize',{'Single':0,'Small':1,'Big':2})"
   ]
  },
  {
   "cell_type": "code",
   "execution_count": 2723,
   "metadata": {},
   "outputs": [],
   "source": [
    "# NOT IN USE\n",
    "#encoding technique two with ordinal encoding\n",
    "def encoding_technique_two():\n",
    "    #map 'Sex' column \n",
    "    ordinal_encoding('Sex',{'male':0,'female':1})\n",
    "    #map 'Age' column \n",
    "    ordinal_encoding('Age',{'Child':0,'Young':1,'Adult':2,'Mid-age':3,'Senior':4})\n",
    "    #map 'Fare' column \n",
    "    ordinal_encoding('Fare',{'Low':0,'Medium':1,'High':2,'Extreme':3})\n",
    "    #map 'Embarked' column \n",
    "    ordinal_encoding('Embarked',{'S':0,'C':1,'Q':2})\n",
    "    #map 'Title' column \n",
    "    ordinal_encoding('Title',{'Mr':0,'Mrs':1,'Miss':2,'Master':3,'Others':4})\n",
    "    #map 'FamilySize' column \n",
    "    ordinal_encoding('FamilySize',{'Single':0,'Small':1,'Big':2})"
   ]
  },
  {
   "cell_type": "code",
   "execution_count": 2724,
   "metadata": {},
   "outputs": [],
   "source": [
    "# NOT IN USE\n",
    "#encoding technique three with label encoding\n",
    "def encoding_technique_three():\n",
    "    #map 'Sex' column \n",
    "    train_df,test_df=label_encoding('Sex')\n",
    "    #map 'Age' column \n",
    "    train_df,test_df=label_encoding('Age')\n",
    "    #map 'FamilySize' column \n",
    "    train_df,test_df=label_encoding('FamilySize')\n",
    "    #map 'Pclass' column \n",
    "    train_df,test_df=label_encoding('Pclass')\n",
    "    #map 'Fare' column \n",
    "    train_df,test_df=label_encoding('Fare')\n",
    "    #map 'Embarked' column \n",
    "    train_df,test_df=label_encoding('Embarked')\n",
    "    #map 'Title' column \n",
    "    train_df,test_df=label_encoding('Title')"
   ]
  },
  {
   "cell_type": "code",
   "execution_count": null,
   "metadata": {},
   "outputs": [],
   "source": []
  },
  {
   "cell_type": "markdown",
   "metadata": {},
   "source": [
    "As passenger ID is not necessary to our analysis so we can drop this from both dataset."
   ]
  },
  {
   "cell_type": "code",
   "execution_count": 2725,
   "metadata": {},
   "outputs": [],
   "source": [
    "train_df.drop(['PassengerId'],axis=1,inplace=True)\n",
    "test_df.drop(['PassengerId'],axis=1,inplace=True)"
   ]
  },
  {
   "cell_type": "code",
   "execution_count": null,
   "metadata": {},
   "outputs": [],
   "source": []
  },
  {
   "cell_type": "code",
   "execution_count": 2726,
   "metadata": {},
   "outputs": [
    {
     "data": {
      "text/html": [
       "<div>\n",
       "<style scoped>\n",
       "    .dataframe tbody tr th:only-of-type {\n",
       "        vertical-align: middle;\n",
       "    }\n",
       "\n",
       "    .dataframe tbody tr th {\n",
       "        vertical-align: top;\n",
       "    }\n",
       "\n",
       "    .dataframe thead th {\n",
       "        text-align: right;\n",
       "    }\n",
       "</style>\n",
       "<table border=\"1\" class=\"dataframe\">\n",
       "  <thead>\n",
       "    <tr style=\"text-align: right;\">\n",
       "      <th></th>\n",
       "      <th>Survived</th>\n",
       "      <th>Pclass</th>\n",
       "      <th>Age</th>\n",
       "      <th>Fare</th>\n",
       "      <th>FamilySize</th>\n",
       "      <th>Sex_female</th>\n",
       "      <th>Sex_male</th>\n",
       "      <th>Embarked_C</th>\n",
       "      <th>Embarked_Q</th>\n",
       "      <th>Embarked_S</th>\n",
       "      <th>Title_Master</th>\n",
       "      <th>Title_Miss</th>\n",
       "      <th>Title_Mr</th>\n",
       "      <th>Title_Mrs</th>\n",
       "      <th>Title_Others</th>\n",
       "    </tr>\n",
       "  </thead>\n",
       "  <tbody>\n",
       "    <tr>\n",
       "      <th>0</th>\n",
       "      <td>0</td>\n",
       "      <td>3</td>\n",
       "      <td>1</td>\n",
       "      <td>0</td>\n",
       "      <td>1</td>\n",
       "      <td>0</td>\n",
       "      <td>1</td>\n",
       "      <td>0</td>\n",
       "      <td>0</td>\n",
       "      <td>1</td>\n",
       "      <td>0</td>\n",
       "      <td>0</td>\n",
       "      <td>1</td>\n",
       "      <td>0</td>\n",
       "      <td>0</td>\n",
       "    </tr>\n",
       "    <tr>\n",
       "      <th>1</th>\n",
       "      <td>1</td>\n",
       "      <td>1</td>\n",
       "      <td>3</td>\n",
       "      <td>2</td>\n",
       "      <td>1</td>\n",
       "      <td>1</td>\n",
       "      <td>0</td>\n",
       "      <td>1</td>\n",
       "      <td>0</td>\n",
       "      <td>0</td>\n",
       "      <td>0</td>\n",
       "      <td>0</td>\n",
       "      <td>0</td>\n",
       "      <td>1</td>\n",
       "      <td>0</td>\n",
       "    </tr>\n",
       "    <tr>\n",
       "      <th>2</th>\n",
       "      <td>1</td>\n",
       "      <td>3</td>\n",
       "      <td>2</td>\n",
       "      <td>0</td>\n",
       "      <td>0</td>\n",
       "      <td>1</td>\n",
       "      <td>0</td>\n",
       "      <td>0</td>\n",
       "      <td>0</td>\n",
       "      <td>1</td>\n",
       "      <td>0</td>\n",
       "      <td>1</td>\n",
       "      <td>0</td>\n",
       "      <td>0</td>\n",
       "      <td>0</td>\n",
       "    </tr>\n",
       "    <tr>\n",
       "      <th>3</th>\n",
       "      <td>1</td>\n",
       "      <td>1</td>\n",
       "      <td>2</td>\n",
       "      <td>2</td>\n",
       "      <td>1</td>\n",
       "      <td>1</td>\n",
       "      <td>0</td>\n",
       "      <td>0</td>\n",
       "      <td>0</td>\n",
       "      <td>1</td>\n",
       "      <td>0</td>\n",
       "      <td>0</td>\n",
       "      <td>0</td>\n",
       "      <td>1</td>\n",
       "      <td>0</td>\n",
       "    </tr>\n",
       "    <tr>\n",
       "      <th>4</th>\n",
       "      <td>0</td>\n",
       "      <td>3</td>\n",
       "      <td>2</td>\n",
       "      <td>0</td>\n",
       "      <td>0</td>\n",
       "      <td>0</td>\n",
       "      <td>1</td>\n",
       "      <td>0</td>\n",
       "      <td>0</td>\n",
       "      <td>1</td>\n",
       "      <td>0</td>\n",
       "      <td>0</td>\n",
       "      <td>1</td>\n",
       "      <td>0</td>\n",
       "      <td>0</td>\n",
       "    </tr>\n",
       "  </tbody>\n",
       "</table>\n",
       "</div>"
      ],
      "text/plain": [
       "   Survived  Pclass  Age  Fare  FamilySize  Sex_female  Sex_male  Embarked_C  \\\n",
       "0         0       3    1     0           1           0         1           0   \n",
       "1         1       1    3     2           1           1         0           1   \n",
       "2         1       3    2     0           0           1         0           0   \n",
       "3         1       1    2     2           1           1         0           0   \n",
       "4         0       3    2     0           0           0         1           0   \n",
       "\n",
       "   Embarked_Q  Embarked_S  Title_Master  Title_Miss  Title_Mr  Title_Mrs  \\\n",
       "0           0           1             0           0         1          0   \n",
       "1           0           0             0           0         0          1   \n",
       "2           0           1             0           1         0          0   \n",
       "3           0           1             0           0         0          1   \n",
       "4           0           1             0           0         1          0   \n",
       "\n",
       "   Title_Others  \n",
       "0             0  \n",
       "1             0  \n",
       "2             0  \n",
       "3             0  \n",
       "4             0  "
      ]
     },
     "execution_count": 2726,
     "metadata": {},
     "output_type": "execute_result"
    }
   ],
   "source": [
    "train_df.head()"
   ]
  },
  {
   "cell_type": "markdown",
   "metadata": {},
   "source": []
  },
  {
   "cell_type": "code",
   "execution_count": null,
   "metadata": {},
   "outputs": [],
   "source": []
  },
  {
   "cell_type": "markdown",
   "metadata": {},
   "source": [
    "### Modeling"
   ]
  },
  {
   "cell_type": "markdown",
   "metadata": {},
   "source": [
    "We want to identify relationship between target varibale (Survived or not) with other feature variables (Gender, Age, Class etc). Our problem is a classification and regression problem.  We will apply some supervised learning model as we are training our model with a given dataset. \n",
    "\n",
    "    Logistic Regression\n",
    "    KNN or k-Nearest Neighbors\n",
    "    Support Vector Machines\n",
    "    Naive Bayes classifier\n",
    "    Decision Tree\n",
    "    Random Forrest"
   ]
  },
  {
   "cell_type": "code",
   "execution_count": 2727,
   "metadata": {},
   "outputs": [
    {
     "data": {
      "text/plain": [
       "((623, 14), (268, 14), (623,), (268,))"
      ]
     },
     "execution_count": 2727,
     "metadata": {},
     "output_type": "execute_result"
    }
   ],
   "source": [
    "#prepare the data\n",
    "from sklearn.model_selection import train_test_split #for split the data\n",
    "from sklearn.metrics import accuracy_score  #for accuracy_score\n",
    "all_features = train_df.drop(\"Survived\",axis=1)\n",
    "target_feature = train_df[\"Survived\"]\n",
    "X_train,X_test,y_train,y_test = train_test_split(all_features,target_feature,test_size=0.3,random_state=42)\n",
    "X_train.shape,X_test.shape,y_train.shape,y_test.shape"
   ]
  },
  {
   "cell_type": "code",
   "execution_count": 2728,
   "metadata": {},
   "outputs": [],
   "source": [
    "# this fn is used to apply a model which will be passed as parameter and return the accuracy using that model\n",
    "def apply_model(model,xtrain,xtest,ytrain,ytest):\n",
    "    model.fit(xtrain,ytrain)\n",
    "    prediction=model.predict(xtest)\n",
    "    acc = round(accuracy_score(prediction,ytest)*100,2)\n",
    "    return acc"
   ]
  },
  {
   "cell_type": "markdown",
   "metadata": {},
   "source": [
    "Logistic regression measures the relationship between the categorical dependent variable (feature) and one or more independent variables (features) by estimating probabilities using a logistic function,"
   ]
  },
  {
   "cell_type": "code",
   "execution_count": 2729,
   "metadata": {},
   "outputs": [
    {
     "name": "stdout",
     "output_type": "stream",
     "text": [
      "The accuracy of the Logistic Regression is 82.09\n"
     ]
    }
   ],
   "source": [
    "# Apply logistic regression\n",
    "from sklearn.linear_model import LogisticRegression # Logistic Regression\n",
    "logireg_acc=apply_model(LogisticRegression(),X_train,X_test,y_train,y_test)\n",
    "print('The accuracy of the Logistic Regression is', logireg_acc)"
   ]
  },
  {
   "cell_type": "markdown",
   "metadata": {},
   "source": [
    "Random Forests is one of the most popular. Random forests or random decision forests are an ensemble learning method for classification, regression and other tasks, that operate by constructing a multitude of decision trees (n_estimators=100) at training time and outputting the class that is the mode of the classes (classification) or mean prediction (regression) of the individual trees. "
   ]
  },
  {
   "cell_type": "code",
   "execution_count": 2730,
   "metadata": {},
   "outputs": [
    {
     "name": "stdout",
     "output_type": "stream",
     "text": [
      "The accuracy of the Random Forest Classifier is 79.85\n"
     ]
    }
   ],
   "source": [
    "#Apply  Random Forests\n",
    "from sklearn.ensemble import RandomForestClassifier\n",
    "\n",
    "randf_model = RandomForestClassifier(criterion='gini', n_estimators=700,\n",
    "                             min_samples_split=10,min_samples_leaf=1,\n",
    "                             max_features='auto',oob_score=True,\n",
    "                             random_state=1,n_jobs=-1)\n",
    "\n",
    "randf_acc = apply_model(randf_model,X_train,X_test,y_train,y_test)\n",
    "print('The accuracy of the Random Forest Classifier is', randf_acc)"
   ]
  },
  {
   "cell_type": "markdown",
   "metadata": {},
   "source": [
    "SVM analyzes data used for classification and regression analysis. Given a set of training samples, each marked as belonging to one or the other of two categories, an SVM training algorithm builds a model that assigns new test samples to one category or the other, making it a non-probabilistic binary linear classifier."
   ]
  },
  {
   "cell_type": "code",
   "execution_count": 2731,
   "metadata": {},
   "outputs": [
    {
     "name": "stdout",
     "output_type": "stream",
     "text": [
      "The accuracy of the Support Vector Machines Classifier is 82.84\n"
     ]
    }
   ],
   "source": [
    "# Apply SVM\n",
    "from sklearn.svm import SVC, LinearSVC\n",
    "svm_model = SVC()\n",
    "svm_acc = apply_model(svm_model,X_train,X_test,y_train,y_test)\n",
    "print('The accuracy of the Support Vector Machines Classifier is', svm_acc)"
   ]
  },
  {
   "cell_type": "markdown",
   "metadata": {},
   "source": [
    "KNN working principle is described below:\n",
    "    A sample is classified by a majority vote of its neighbors, with the sample being assigned to the class most common among its k nearest neighbors (k is a positive integer, typically small). If k = 1, then the object is simply assigned to the class of that single nearest neighbor."
   ]
  },
  {
   "cell_type": "code",
   "execution_count": 2732,
   "metadata": {},
   "outputs": [
    {
     "name": "stdout",
     "output_type": "stream",
     "text": [
      "The accuracy of the K Nearst Neighbors Classifier is 81.34\n"
     ]
    }
   ],
   "source": [
    "#Apply knn\n",
    "from sklearn.neighbors import KNeighborsClassifier\n",
    "\n",
    "knn_acc = apply_model(KNeighborsClassifier(n_neighbors = 4),X_train,X_test,y_train,y_test)\n",
    "print('The accuracy of the K Nearst Neighbors Classifier is', knn_acc)"
   ]
  },
  {
   "cell_type": "markdown",
   "metadata": {},
   "source": [
    "Decision tree maps features (tree branches) to conclusions about the target value (tree leaves). Tree models where the target variable can take a finite set of values are called classification trees; in these tree structures, leaves represent class labels and branches represent conjunctions of features that lead to those class labels. Decision trees where the target variable can take continuous values (typically real numbers) are called regression trees."
   ]
  },
  {
   "cell_type": "code",
   "execution_count": 2733,
   "metadata": {},
   "outputs": [
    {
     "name": "stdout",
     "output_type": "stream",
     "text": [
      "The accuracy of the DecisionTree Classifier is 78.36\n"
     ]
    }
   ],
   "source": [
    "#Apply Decision Tree\n",
    "from sklearn.tree import DecisionTreeClassifier\n",
    "dtree_model= DecisionTreeClassifier(criterion='gini', \n",
    "                             min_samples_split=10,min_samples_leaf=1,\n",
    "                             max_features='auto')\n",
    "dtree_acc = apply_model(dtree_model,X_train,X_test,y_train,y_test)\n",
    "print('The accuracy of the DecisionTree Classifier is', dtree_acc)"
   ]
  },
  {
   "cell_type": "code",
   "execution_count": 2734,
   "metadata": {},
   "outputs": [
    {
     "data": {
      "text/html": [
       "<div>\n",
       "<style scoped>\n",
       "    .dataframe tbody tr th:only-of-type {\n",
       "        vertical-align: middle;\n",
       "    }\n",
       "\n",
       "    .dataframe tbody tr th {\n",
       "        vertical-align: top;\n",
       "    }\n",
       "\n",
       "    .dataframe thead th {\n",
       "        text-align: right;\n",
       "    }\n",
       "</style>\n",
       "<table border=\"1\" class=\"dataframe\">\n",
       "  <thead>\n",
       "    <tr style=\"text-align: right;\">\n",
       "      <th></th>\n",
       "      <th>Model</th>\n",
       "    </tr>\n",
       "    <tr>\n",
       "      <th>Score</th>\n",
       "      <th></th>\n",
       "    </tr>\n",
       "  </thead>\n",
       "  <tbody>\n",
       "    <tr>\n",
       "      <th>82.84</th>\n",
       "      <td>Support Vector Machines</td>\n",
       "    </tr>\n",
       "    <tr>\n",
       "      <th>82.09</th>\n",
       "      <td>Logistic Regression</td>\n",
       "    </tr>\n",
       "    <tr>\n",
       "      <th>81.34</th>\n",
       "      <td>KNN</td>\n",
       "    </tr>\n",
       "    <tr>\n",
       "      <th>79.85</th>\n",
       "      <td>Random Forest</td>\n",
       "    </tr>\n",
       "    <tr>\n",
       "      <th>78.36</th>\n",
       "      <td>DecisionTree Classifier</td>\n",
       "    </tr>\n",
       "  </tbody>\n",
       "</table>\n",
       "</div>"
      ],
      "text/plain": [
       "                         Model\n",
       "Score                         \n",
       "82.84  Support Vector Machines\n",
       "82.09      Logistic Regression\n",
       "81.34                      KNN\n",
       "79.85            Random Forest\n",
       "78.36  DecisionTree Classifier"
      ]
     },
     "execution_count": 2734,
     "metadata": {},
     "output_type": "execute_result"
    }
   ],
   "source": [
    "models = pd.DataFrame({\n",
    "    'Model': ['Logistic Regression','Random Forest','Support Vector Machines', 'KNN', \n",
    "               'DecisionTree Classifier'],\n",
    "    'Score': [logireg_acc, randf_acc, svm_acc, \n",
    "              knn_acc, dtree_acc]})\n",
    "models = models.sort_values(by='Score', ascending=False)\n",
    "models = models.set_index('Score')\n",
    "models"
   ]
  },
  {
   "cell_type": "markdown",
   "metadata": {},
   "source": []
  },
  {
   "cell_type": "code",
   "execution_count": null,
   "metadata": {},
   "outputs": [],
   "source": []
  },
  {
   "cell_type": "markdown",
   "metadata": {},
   "source": [
    "##### Now, we will use our test data applying the best performed model "
   ]
  },
  {
   "cell_type": "code",
   "execution_count": 2735,
   "metadata": {},
   "outputs": [
    {
     "name": "stdout",
     "output_type": "stream",
     "text": [
      "Total survived from test data 158 out of 418 (37.8%)\n"
     ]
    },
    {
     "data": {
      "text/plain": [
       "<matplotlib.axes._subplots.AxesSubplot at 0x22a68ed5ac8>"
      ]
     },
     "execution_count": 2735,
     "metadata": {},
     "output_type": "execute_result"
    },
    {
     "data": {
      "image/png": "[encoded data removed]",
      "text/plain": [
       "<Figure size 432x288 with 1 Axes>"
      ]
     },
     "metadata": {
      "needs_background": "light"
     },
     "output_type": "display_data"
    }
   ],
   "source": [
    "# Apply SVM\n",
    "svm_prediction=svm_model.predict(test_df)\n",
    "survived = np.count_nonzero(svm_prediction)\n",
    "total = svm_prediction.size\n",
    "print('Total survived from test data '+str(survived)+' out of '+str(total)+' ('+str(round((survived/total)*100,2))+'%)')\n",
    "sns.countplot(svm_prediction)"
   ]
  },
  {
   "cell_type": "markdown",
   "metadata": {},
   "source": [
    "### Summary"
   ]
  },
  {
   "cell_type": "markdown",
   "metadata": {},
   "source": [
    "We can delineate some conclusions from our observation which are stated below:\n",
    "1. Most the the passengers were male and also survival rate of male passengers were low compared to female.\n",
    "2. Most the the passengers who died were from 3rd class.\n",
    "3. Most of the passengers died during the incident. \n",
    "4. Passengers from age range 20-30 were the frequent one. \n",
    "5. 'Southampton' was the embarked Port where most of the passengers departed.\n",
    "6. Most of the passengers were single."
   ]
  },
  {
   "cell_type": "markdown",
   "metadata": {},
   "source": [
    "@Abu Ibne Bayazid (Imon)"
   ]
  },
  {
   "cell_type": "code",
   "execution_count": null,
   "metadata": {},
   "outputs": [],
   "source": []
  }
 ],
 "metadata": {
  "kernelspec": {
   "display_name": "Python 3",
   "language": "python",
   "name": "python3"
  },
  "language_info": {
   "codemirror_mode": {
    "name": "ipython",
    "version": 3
   },
   "file_extension": ".py",
   "mimetype": "text/x-python",
   "name": "python",
   "nbconvert_exporter": "python",
   "pygments_lexer": "ipython3",
   "version": "3.7.0"
  }
 },
 "nbformat": 4,
 "nbformat_minor": 2
}
